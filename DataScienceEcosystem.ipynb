{
  "nbformat": 4,
  "nbformat_minor": 0,
  "metadata": {
    "colab": {
      "provenance": [],
      "authorship_tag": "ABX9TyPz/m0/1T/kxz/n5a2pxPxM",
      "include_colab_link": true
    },
    "kernelspec": {
      "name": "python3",
      "display_name": "Python 3"
    },
    "language_info": {
      "name": "python"
    }
  },
  "cells": [
    {
      "cell_type": "markdown",
      "metadata": {
        "id": "view-in-github",
        "colab_type": "text"
      },
      "source": [
        "<a href=\"https://colab.research.google.com/github/almagashi/ibmcourse/blob/main/DataScienceEcosystem.ipynb\" target=\"_parent\"><img src=\"https://colab.research.google.com/assets/colab-badge.svg\" alt=\"Open In Colab\"/></a>"
      ]
    },
    {
      "cell_type": "markdown",
      "source": [
        "**Exercise 1: Create a Jupyter Notebook**\n",
        "\n",
        "Create a new Jupyter notebook called DataScienceEcosystem.ipynb"
      ],
      "metadata": {
        "id": "qZzAaTCQFbi0"
      }
    },
    {
      "cell_type": "markdown",
      "source": [
        "**Exercise 2: Create markdown cell with title of the notebook**"
      ],
      "metadata": {
        "id": "dyktjfoVFlrA"
      }
    },
    {
      "cell_type": "markdown",
      "source": [
        "# Data Science Tools and Ecosystem"
      ],
      "metadata": {
        "id": "24qAT6kXFqnr"
      }
    },
    {
      "cell_type": "markdown",
      "source": [
        "**Exercise 3 - Create a markdown cell for an introduction**"
      ],
      "metadata": {
        "id": "i5z-X0-0Fqu9"
      }
    },
    {
      "cell_type": "markdown",
      "source": [
        "In this notebook, Data Science Tools and Ecosystem are summarized."
      ],
      "metadata": {
        "id": "wDGZODRiFqxG"
      }
    },
    {
      "cell_type": "markdown",
      "source": [
        "**Exercise 10 - Insert a markdown cell to list Objectives**"
      ],
      "metadata": {
        "id": "4I18sic1IUAP"
      }
    },
    {
      "cell_type": "markdown",
      "source": [
        "**Objectives:**\n",
        "\n",
        "* List popular data science libraries\n",
        "* List popular data science tools\n",
        "* Try multiple markdown and code cell functions\n",
        "* Create tables in markdown\n",
        "* Use ordered and unordered lists"
      ],
      "metadata": {
        "id": "auGtYoURIjE0"
      }
    },
    {
      "cell_type": "markdown",
      "source": [
        "**Exercise 4 - Create a markdown cell to list data science languages**"
      ],
      "metadata": {
        "id": "i7Qkod4dFqze"
      }
    },
    {
      "cell_type": "markdown",
      "source": [
        "Some of the popular languages that Data Scientists use are:\n",
        "1. Python\n",
        "2. R\n",
        "3. Stata\n",
        "4. Julia"
      ],
      "metadata": {
        "id": "LB1ykfEbFq1u"
      }
    },
    {
      "cell_type": "markdown",
      "source": [
        "**Exercise 5 - Create a markdown cell to list data science libraries**"
      ],
      "metadata": {
        "id": "R6WS0MlOFq4E"
      }
    },
    {
      "cell_type": "markdown",
      "source": [
        "Some of the commonly used libraries used by Data Scientists include:\n",
        "1. NumPy\n",
        "2. Pandas\n",
        "3. Matplotlib\n",
        "4. Plotly\n",
        "5. Tensorflow"
      ],
      "metadata": {
        "id": "J2GYWluRGhGo"
      }
    },
    {
      "cell_type": "markdown",
      "source": [
        "**Exercise 6 - Create a markdown cell with a table of Data Science tools**"
      ],
      "metadata": {
        "id": "uoNoYj7aG2CN"
      }
    },
    {
      "cell_type": "markdown",
      "source": [
        "Data Science Tools |\n",
        "------|\n",
        "VSCode |\n",
        "GitHub |\n",
        "Python |\n"
      ],
      "metadata": {
        "id": "6MaXoCNMG4TQ"
      }
    },
    {
      "cell_type": "markdown",
      "source": [
        "**Exercise 7 - Create a markdown cell introducing arithmetic expression examples**"
      ],
      "metadata": {
        "id": "Jb8S1vzYG4Zg"
      }
    },
    {
      "cell_type": "markdown",
      "source": [
        "### Below are a few examples of evaluating arithmetic expressions in Python.\n"
      ],
      "metadata": {
        "id": "s6dL3YxLG4eg"
      }
    },
    {
      "cell_type": "markdown",
      "source": [
        "**Exercise 8 - Create a code cell to multiply and add numbers**"
      ],
      "metadata": {
        "id": "Qesy-EOjHiBT"
      }
    },
    {
      "cell_type": "code",
      "source": [
        "# This a simple arithmetic expression to mutiply then add integers\n",
        "(3*4)+5"
      ],
      "metadata": {
        "colab": {
          "base_uri": "https://localhost:8080/"
        },
        "id": "8dfRtWmzHygW",
        "outputId": "d8c7a9fb-6b95-43a2-995c-771bfe8b5955"
      },
      "execution_count": 1,
      "outputs": [
        {
          "output_type": "execute_result",
          "data": {
            "text/plain": [
              "17"
            ]
          },
          "metadata": {},
          "execution_count": 1
        }
      ]
    },
    {
      "cell_type": "markdown",
      "source": [
        "**Exercise 9 - Create a code cell to convert minutes to hours**"
      ],
      "metadata": {
        "id": "sNKyMHcMINcU"
      }
    },
    {
      "cell_type": "code",
      "source": [
        "# This will convert 200 minutes to hours by diving by 60\n",
        "minutes = 200\n",
        "hours = minutes/60\n",
        "print(hours)"
      ],
      "metadata": {
        "colab": {
          "base_uri": "https://localhost:8080/"
        },
        "id": "8GU7LJblH4VL",
        "outputId": "5e808982-db89-48c2-e93d-49b9d99ba750"
      },
      "execution_count": 2,
      "outputs": [
        {
          "output_type": "stream",
          "name": "stdout",
          "text": [
            "3.3333333333333335\n"
          ]
        }
      ]
    },
    {
      "cell_type": "markdown",
      "source": [
        "**Exercise 11 - Create a markdown cell to indicate the Author's name**"
      ],
      "metadata": {
        "id": "TwdKqdgvJEUK"
      }
    },
    {
      "cell_type": "markdown",
      "source": [
        "## Author\n",
        "\n",
        "Alma Gashi"
      ],
      "metadata": {
        "id": "rFVndPb2JM8g"
      }
    }
  ]
}